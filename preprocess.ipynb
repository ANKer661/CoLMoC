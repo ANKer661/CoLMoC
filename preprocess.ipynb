{
 "cells": [
  {
   "cell_type": "code",
   "execution_count": 1,
   "metadata": {},
   "outputs": [],
   "source": [
    "import torch\n",
    "import matplotlib.pyplot as plt\n",
    "import numpy as np\n",
    "from tokenizers import Tokenizer\n",
    "from tokenizers.models import BPE\n",
    "from tokenizers.trainers import BpeTrainer"
   ]
  },
  {
   "cell_type": "code",
   "execution_count": 14,
   "metadata": {},
   "outputs": [],
   "source": [
    "torch.save(torch.Tensor(np.load('xxx.npy')), 'data/pt_coords.pt')\n",
    "atom_type = ['C', 'H', 'H', 'H', 'C', 'O', 'N', 'H', 'C', 'H', 'C', 'H', 'H', 'H', 'C', 'O', 'N', 'H', 'C', 'H', 'H', 'H']\n",
    "aa_type = ['A', 'A', 'A', 'A', 'A', 'A', 'A', 'A', 'A', 'A', 'A', 'A', 'A', 'A', 'A', 'A', 'A', 'A', 'A', 'A', 'A', 'A']\n",
    "# Obtained by VMD \"[atomselect top all] getbonds\"\n",
    "connections = [[4, 1, 2, 3], 0, 0, 0, [0, 6, 5], 4, [4, 8, 7], 6, [6, 14, 9, 10], 8, [8, 11, 12, 13], 10, 10, 10, [8, 16, 15], 14, [14, 18, 17], 16, [16, 19, 20, 21], 18, 18, 18]"
   ]
  },
  {
   "cell_type": "code",
   "execution_count": 4,
   "metadata": {},
   "outputs": [
    {
     "data": {
      "text/plain": [
       "<matplotlib.image.AxesImage at 0x7f84809d2310>"
      ]
     },
     "execution_count": 4,
     "metadata": {},
     "output_type": "execute_result"
    },
    {
     "data": {
      "image/png": "[encoded data removed]",
      "text/plain": [
       "<Figure size 640x480 with 1 Axes>"
      ]
     },
     "metadata": {},
     "output_type": "display_data"
    }
   ],
   "source": [
    "adj_matrix = torch.zeros((len(atom_type), len(atom_type)))\n",
    "for position, atoms in enumerate(connections):\n",
    "    if isinstance(atoms, list):\n",
    "        for atom in atoms:\n",
    "            adj_matrix[position][atom] = 1\n",
    "    else:\n",
    "        adj_matrix[position][atoms] = 1\n",
    "plt.imshow(adj_matrix, cmap='hot')"
   ]
  },
  {
   "cell_type": "code",
   "execution_count": 7,
   "metadata": {},
   "outputs": [],
   "source": [
    "def generate_adj_list(adj_matrix: torch.tensor):\n",
    "    return adj_matrix.nonzero().long().t().contiguous()\n",
    "\n",
    "adj_list = generate_adj_list(adj_matrix)"
   ]
  },
  {
   "cell_type": "code",
   "execution_count": 5,
   "metadata": {},
   "outputs": [
    {
     "data": {
      "text/plain": [
       "tensor([[ 0,  0,  0,  0,  1,  2,  3,  4,  4,  4,  5,  6,  6,  6,  7,  8,  8,  8,\n",
       "          8,  9, 10, 10, 10, 10, 11, 12, 13, 14, 14, 14, 15, 16, 16, 16, 17, 18,\n",
       "         18, 18, 18, 19, 20, 21],\n",
       "        [ 1,  2,  3,  4,  0,  0,  0,  0,  5,  6,  4,  4,  7,  8,  6,  6,  9, 10,\n",
       "         14,  8,  8, 11, 12, 13, 10, 10, 10,  8, 15, 16, 14, 14, 17, 18, 16, 16,\n",
       "         19, 20, 21, 18, 18, 18]])"
      ]
     },
     "execution_count": 5,
     "metadata": {},
     "output_type": "execute_result"
    }
   ],
   "source": [
    "adj_list"
   ]
  },
  {
   "cell_type": "code",
   "execution_count": null,
   "metadata": {},
   "outputs": [],
   "source": [
    "tokenizer = Tokenizer(BPE())\n",
    "trainer = BpeTrainer()\n",
    "tokenizer.train_from_iterator(atom_type, trainer=trainer)\n",
    "tokenizer.save('tknzs/atom_tokenizer.json')\n",
    "atom_ids = tokenizer.encode(''.join(atom_type)).ids"
   ]
  },
  {
   "cell_type": "code",
   "execution_count": 26,
   "metadata": {},
   "outputs": [
    {
     "name": "stdout",
     "output_type": "stream",
     "text": [
      "\n",
      "\n",
      "\n"
     ]
    }
   ],
   "source": [
    "tokenizer = Tokenizer(BPE())\n",
    "trainer = BpeTrainer()\n",
    "tokenizer.train_from_iterator(aa_type, trainer=trainer)\n",
    "tokenizer.save('tknzs/aa_tokenizer.json')\n",
    "aa_ids = tokenizer.encode(''.join(aa_type)).ids"
   ]
  },
  {
   "cell_type": "code",
   "execution_count": 22,
   "metadata": {},
   "outputs": [],
   "source": [
    "torch.save(adj_list.type(torch.LongTensor), 'data/edge_index.pt')\n",
    "torch.save(torch.tensor(aa_ids), 'data/aa_inputs.pt')\n",
    "torch.save(torch.tensor(atom_ids), 'data/atom_inputs.pt')"
   ]
  },
  {
   "cell_type": "code",
   "execution_count": null,
   "metadata": {},
   "outputs": [],
   "source": []
  }
 ],
 "metadata": {
  "kernelspec": {
   "display_name": "cannon",
   "language": "python",
   "name": "python3"
  },
  "language_info": {
   "codemirror_mode": {
    "name": "ipython",
    "version": 3
   },
   "file_extension": ".py",
   "mimetype": "text/x-python",
   "name": "python",
   "nbconvert_exporter": "python",
   "pygments_lexer": "ipython3",
   "version": "3.11.0"
  },
  "orig_nbformat": 4
 },
 "nbformat": 4,
 "nbformat_minor": 2
}
